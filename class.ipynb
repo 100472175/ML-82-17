{
 "cells": [
  {
   "cell_type": "code",
   "execution_count": null,
   "metadata": {},
   "outputs": [],
   "source": [
    "import pandas as pd\n",
    "import numpy as np\n",
    "import time\n",
    "from sklearn.preprocessing import StandardScaler, MinMaxScaler, RobustScaler, Normalizer, PowerTransformer\n",
    "from sklearn.neighbors import KNeighborsRegressor\n",
    "from sklearn.model_selection import train_test_split, GridSearchCV, KFold, RandomizedSearchCV, TimeSeriesSplit, cross_val_score\n",
    "from sklearn.tree import DecisionTreeRegressor  \n",
    "from sklearn.pipeline import Pipeline\n",
    "from sklearn import metrics\n",
    "from sklearn.dummy import DummyRegressor\n",
    "from sklearn.linear_model import LinearRegression, Lasso\n",
    "from sklearn.metrics import mean_squared_error\n",
    "from sklearn.neural_network import MLPRegressor\n",
    "from sklearn.svm import SVR"
   ]
  },
  {
   "cell_type": "code",
   "execution_count": null,
   "metadata": {},
   "outputs": [],
   "source": [
    "# Load the data\n",
    "data = pd.read_csv('wind_ava.csv.gz', compression='gzip')\n",
    "\n",
    "# FIlter the data to only include the columns that end in 13\n",
    "data = data.filter(regex='13$|energy')\n",
    "#print(data)\n"
   ]
  },
  {
   "cell_type": "code",
   "execution_count": null,
   "metadata": {},
   "outputs": [],
   "source": [
    "y = data['energy']\n",
    "x = data.drop(columns=['energy'])\n",
    "\n",
    "third_quartile = np.quantile(y, 0.75)\n",
    "\n",
    "X_train, X_test, y_train, y_test = train_test_split(x, y, test_size=0.2, shuffle=False)\n",
    "y_class = np.where(y_test < third_quartile, 'baja', 'alta')\n"
   ]
  },
  {
   "cell_type": "code",
   "execution_count": null,
   "metadata": {},
   "outputs": [],
   "source": [
    "\n",
    "pipe = Pipeline([\n",
    "    ('scaler', PowerTransformer()),\n",
    "    ('model', SVR(C=719, degree=1, epsilon=0.1, gamma='auto', kernel='rbf'))\n",
    "])\n",
    "\n",
    "\n",
    "pipe.fit(X_train, y_train)\n",
    "\n",
    "y_pred_pipe = pipe.predict(X_test)\n",
    "\n",
    "# Get the values that have the value small in the y_class array\n",
    "y_pred_pipe_small = y_pred_pipe[y_class == 'baja']\n",
    "y_pred_pipe_large = y_pred_pipe[y_class == 'alta']\n",
    "y_test_small = y_test[y_class == 'baja']\n",
    "y_test_large = y_test[y_class == 'alta']\n",
    "\n",
    "# Calculate the RMSE for the small values\n",
    "rmse_pipe_small = np.sqrt(mean_squared_error(y_pred_pipe_small, y_test_small))\n",
    "\n",
    "# Calculate the RMSE for the large values\n",
    "rmse_pipe_large = np.sqrt(mean_squared_error(y_pred_pipe_large, y_test_large))\n",
    "\n",
    "print(\"RMSE small:\", rmse_pipe_small)\n",
    "print(\"RMSE large:\", rmse_pipe_large)"
   ]
  },
  {
   "cell_type": "markdown",
   "metadata": {},
   "source": [
    "Como se puede observar de los resultados de la celda anterior, las predicciones bajas son mucho más fiables que las predicciones elevadas.\n",
    "\n",
    "Ahora, haremos el problema de Clasificación:\n",
    "KNN, SVM, DecisionTreeClassifier, MLPClassifier"
   ]
  },
  {
   "cell_type": "code",
   "execution_count": null,
   "metadata": {},
   "outputs": [],
   "source": [
    "y_class = np.where(y < third_quartile, 'baja', 'alta')\n",
    "\n",
    "X_train, X_test, y_train, y_test = train_test_split(x, y_class, test_size=0.2, shuffle=False)\n"
   ]
  },
  {
   "cell_type": "code",
   "execution_count": null,
   "metadata": {},
   "outputs": [],
   "source": [
    "from sklearn.neighbors import KNeighborsClassifier\n",
    "from sklearn.model_selection import TimeSeriesSplit\n",
    "from sklearn.metrics import mean_squared_error\n",
    "# Usaremos los parametros por default n_slits = 5, max_train_dize = None, test_size = None, gap = 0 \n",
    "cv = TimeSeriesSplit()\n",
    "\n",
    "param_grid = {\n",
    "    'n_neighbors': range(5, 30, 2),\n",
    "    'weights' : ['uniform', 'distance'],\n",
    "    'algorithm': ['auto', 'ball_tree', 'kd_tree', 'brute'],\n",
    "    'leaf_size': range(1, 25, 5),\n",
    "    'p' : [1,2], # distance `= 1 manhatan, p=2 euclidean,\n",
    "}\n",
    "scoring = ['accuracy', 'f1', 'precision', 'recall', 'balanced_accuracy']\n",
    "results = {}\n",
    "for score in scoring:\n",
    "    grid_search = GridSearchCV(KNeighborsClassifier(),\n",
    "                        param_grid, cv=cv, n_jobs=-1, scoring=score)\n",
    "\n",
    "    pipe = Pipeline([\n",
    "        ('scaler', RobustScaler()),\n",
    "        ('model', grid_search)\n",
    "    ])\n",
    "\n",
    "\n",
    "    #grid_search2 = GridSearchCV(KNeighborsClassifier(),\n",
    "    #                     param_grid, cv=cv, n_jobs=-1, scoring='neg_root_mean_squared_error')\n",
    "\n",
    "\n",
    "    pipe.fit(X_train, y_train)\n",
    "\n",
    "\n",
    "    best_model_pipe = pipe.named_steps[\"model\"].best_estimator_\n",
    "    best_params_pipe = pipe.named_steps[\"model\"].best_params_\n",
    "    best_score_pipe = pipe.named_steps[\"model\"].best_score_\n",
    "\n",
    "    print(\"Best model\", best_model_pipe)\n",
    "    print(\"Best params\", best_params_pipe)\n",
    "    print(\"Best score\", best_score_pipe)\n",
    "    results[score] = {'score' : best_score_pipe, 'params' : best_params_pipe}\n",
    "\n",
    "\n",
    "print(results)"
   ]
  }
 ],
 "metadata": {
  "kernelspec": {
   "display_name": ".venv",
   "language": "python",
   "name": "python3"
  },
  "language_info": {
   "codemirror_mode": {
    "name": "ipython",
    "version": 3
   },
   "file_extension": ".py",
   "mimetype": "text/x-python",
   "name": "python",
   "nbconvert_exporter": "python",
   "pygments_lexer": "ipython3",
   "version": "3.12.2"
  }
 },
 "nbformat": 4,
 "nbformat_minor": 2
}
