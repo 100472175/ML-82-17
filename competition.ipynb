{
 "cells": [
  {
   "cell_type": "code",
   "execution_count": 2,
   "metadata": {},
   "outputs": [],
   "source": [
    "from joblib import load\n",
    "import pandas as pd\n",
    "import numpy as np\n",
    "\n",
    "data = pd.read_csv('wind_comp.csv.gz', compression='gzip')\n",
    "data = data.filter(regex='13$|energy')\n",
    "\n",
    "best_model = load('best_model_svr.joblib')\n",
    "prediccion = best_model.predict(data)\n",
    "\n",
    "# Save to a CSV file\n",
    "np.savetxt('competition.csv', prediccion, delimiter=',', fmt='%f')"
   ]
  }
 ],
 "metadata": {
  "kernelspec": {
   "display_name": ".venv",
   "language": "python",
   "name": "python3"
  },
  "language_info": {
   "codemirror_mode": {
    "name": "ipython",
    "version": 3
   },
   "file_extension": ".py",
   "mimetype": "text/x-python",
   "name": "python",
   "nbconvert_exporter": "python",
   "pygments_lexer": "ipython3",
   "version": "3.12.2"
  }
 },
 "nbformat": 4,
 "nbformat_minor": 2
}
