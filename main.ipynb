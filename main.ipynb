{
 "cells": [
  {
   "cell_type": "markdown",
   "id": "93068dce9f22b25b",
   "metadata": {
    "collapsed": false
   },
   "source": [
    "# Project Introduction:\n",
    "Primer laboratorio de aprendizaje automático, desarrollado por Sergio Barragán Blanco (100472343) y Eduardo Alarcón Navarro (100472175). \n",
    "Grupo 17.\n"
   ]
  },
  {
   "cell_type": "markdown",
   "id": "1909d60540e388e1",
   "metadata": {},
   "source": [
    "# 1. EDA\n",
    "Existen 22 carácterísticas que definen cada momento, de las cuales ninguna es categórica, todas son numéricas (con la energía suman 23). No existen valores faltantes, pero si los hubiera, los rellenaríamos con la media del valor superior e inferior antes de randomizar el dataset.\n",
    "\n",
    "No existen tampoco columnas constantes, que se eliminarían. \n",
    "\n",
    "Con todo esto, podemos observar que es un problema de regresión.\n",
    "\n",
    "La variable que estamos intentando predecir es la \"energía\" que es el valor de la energía generada 24 horas después. \n"
   ]
  },
  {
   "cell_type": "markdown",
   "source": [
    "## Correlaciones entre parámetros:\n",
    "Al principio, parece que las columnas lai_lv.13 y lai_hv.13 tienen una correlación, pero según avanza el tiempo, desaparece.\n",
    "\n",
    "## Escala de los datos\n",
    "Entre las diferentes columnas de datos, tenemos valores y magnitudes muy dispares."
   ],
   "metadata": {
    "collapsed": false
   },
   "id": "e241678302c58333"
  },
  {
   "cell_type": "markdown",
   "source": [],
   "metadata": {
    "collapsed": false
   },
   "id": "4d0b40b534b9360f"
  },
  {
   "cell_type": "code",
   "execution_count": 1,
   "id": "718a0bf13cf1f98b",
   "metadata": {
    "collapsed": false,
    "ExecuteTime": {
     "end_time": "2024-03-02T14:20:05.084200600Z",
     "start_time": "2024-03-02T14:19:59.757522800Z"
    }
   },
   "outputs": [
    {
     "name": "stdout",
     "output_type": "stream",
     "text": [
      "0.006834268569946289\n"
     ]
    }
   ],
   "source": [
    "import pandas as pd\n",
    "import numpy as np\n",
    "# Load the data\n",
    "data = pd.read_csv('wind_ava.csv.gz', compression='gzip')\n",
    "# FIlter the data to only include the columns that end in 13\n",
    "import time\n",
    "a = time.time()\n",
    "data = data.filter(regex='13$|energy')\n",
    "#print(data)\n",
    "print(time.time()-a)\n",
    "\n"
   ]
  },
  {
   "cell_type": "code",
   "execution_count": 2,
   "id": "97f5d899342eb290",
   "metadata": {
    "collapsed": false,
    "ExecuteTime": {
     "end_time": "2024-03-02T14:20:10.501635Z",
     "start_time": "2024-03-02T14:20:04.858599100Z"
    }
   },
   "outputs": [],
   "source": [
    "from sklearn.model_selection import train_test_split\n",
    "\n",
    "y = data['energy']\n",
    "x = data.drop(columns=['energy'])\n",
    "\n",
    "\n",
    "X_train, X_test, y_train, y_test = train_test_split(x, y, test_size=0.2, random_state=7543)\n"
   ]
  },
  {
   "cell_type": "code",
   "execution_count": 3,
   "id": "4fc2e646359c0bd8",
   "metadata": {
    "collapsed": false,
    "ExecuteTime": {
     "end_time": "2024-03-02T14:20:20.504075700Z",
     "start_time": "2024-03-02T14:20:10.334710700Z"
    }
   },
   "outputs": [],
   "source": [
    "# Preprocessing\n",
    "\n",
    "from sklearn.preprocessing import StandardScaler\n",
    "from sklearn.preprocessing import MinMaxScaler\n",
    "from sklearn.preprocessing import RobustScaler\n",
    "from sklearn.preprocessing import Normalizer\n",
    "from sklearn.compose import ColumnTransformer\n",
    "from sklearn.model_selection import KFold, RandomizedSearchCV\n",
    "from sklearn.tree import DecisionTreeRegressor, DecisionTreeClassifier  \n",
    "from sklearn.pipeline import Pipeline\n",
    "\n",
    "scalers = [StandardScaler(), MinMaxScaler(), RobustScaler(), Normalizer()]\n",
    "\n",
    "preprocessor = ColumnTransformer(\n",
    "    transformers=[\n",
    "        ('num', StandardScaler(), x.columns)\n",
    "    ])\n"
   ]
  },
  {
   "cell_type": "code",
   "execution_count": 4,
   "id": "48f24c60f565a7dc",
   "metadata": {
    "collapsed": false,
    "ExecuteTime": {
     "end_time": "2024-03-02T14:21:19.554174300Z",
     "start_time": "2024-03-02T14:20:10.554833100Z"
    }
   },
   "outputs": [
    {
     "name": "stdout",
     "output_type": "stream",
     "text": [
      "Fitting 5 folds for each of 50 candidates, totalling 250 fits\n",
      "RMSE: 167902.30422607897\n",
      "SQRT RMSE: 409.7588366662505\n",
      "Best params: {'min_samples_split': 4, 'min_samples_leaf': 11, 'max_depth': 13, 'criterion': 'absolute_error'}\n"
     ]
    }
   ],
   "source": [
    "# Optimizing hyperparameters\n",
    "from sklearn.model_selection import GridSearchCV, KFold, RandomizedSearchCV\n",
    "from sklearn.tree import DecisionTreeRegressor  # Import DecisionTreeRegressor instead of DecisionTreeClassifier\n",
    "from sklearn.pipeline import Pipeline\n",
    "from sklearn import metrics\n",
    "import numpy as np\n",
    "\n",
    "\n",
    "param_grid = {\n",
    "    'criterion': ['friedman_mse', 'absolute_error', 'poisson', 'squared_error'],  # Adjust criterion for regression\n",
    "    'max_depth': [None, 12, 13, 14, 15, 16, 17],\n",
    "    'min_samples_split': range(2, 15, 2),\n",
    "    'min_samples_leaf': range(5, 15, 2),\n",
    "}\n",
    "\n",
    "cv = KFold(n_splits=5)\n",
    "model = RandomizedSearchCV(DecisionTreeRegressor(random_state=7543),  # Use DecisionTreeRegressor\n",
    "                     param_grid, cv=cv, n_jobs=-1, verbose=1, scoring='neg_mean_absolute_percentage_error', n_iter=50)  # Adjust scoring metric\n",
    "\n",
    "model2 = GridSearchCV(DecisionTreeRegressor(random_state=7543),  # Use DecisionTreeRegressor\n",
    "                     param_grid, cv=cv, n_jobs=-1, verbose=1, scoring='neg_mean_absolute_percentage_error')\n",
    "\n",
    "pipe = Pipeline([\n",
    "    ('preprocessor', preprocessor),\n",
    "    ('model', model)\n",
    "])\n",
    "\n",
    "pipe.fit(X_train, y_train)\n",
    "y_pred = pipe.predict(X_test)\n",
    "\n",
    "\n",
    "rmse_tree = metrics.mean_squared_error(y_test, y_pred)\n",
    "sqrt_rmse_tree = np.sqrt(metrics.mean_squared_error(y_test, y_pred))\n",
    "print(f\"RMSE: {rmse_tree}\")\n",
    "print(f\"SQRT RMSE: {sqrt_rmse_tree}\")\n",
    "print(f\"Best params: {model.best_params_}\")\n",
    "# Best params: {'criterion': 'absolute_error', 'max_depth': 15, 'min_samples_leaf': 11, 'min_samples_split': 3}\n"
   ]
  },
  {
   "cell_type": "code",
   "execution_count": 12,
   "id": "9f115f6a",
   "metadata": {},
   "outputs": [
    {
     "name": "stdout",
     "output_type": "stream",
     "text": [
      "RMSE: 451489.08466268575\n",
      "SQRT RMSE: 671.9293747580067\n"
     ]
    }
   ],
   "source": [
    "# Create a Dunny regressor to obtain a baseline\n",
    "\n",
    "from sklearn.dummy import DummyRegressor\n",
    "dummy = DummyRegressor(strategy='mean')\n",
    "\n",
    "pipe = Pipeline([\n",
    "    ('preprocessor', preprocessor),\n",
    "    ('model', dummy)\n",
    "])\n",
    "\n",
    "pipe.fit(X_train, y_train)\n",
    "y_pred = pipe.predict(X_test)\n",
    "\n",
    "rmse_dummy = metrics.mean_squared_error(y_test, y_pred)\n",
    "sqrt_rmse_dummy = np.sqrt(metrics.mean_squared_error(y_test, y_pred))\n",
    "print(f\"RMSE: {rmse_dummy}\")\n",
    "print(f\"SQRT RMSE: {sqrt_rmse_dummy}\")\n",
    "\n"
   ]
  },
  {
   "cell_type": "code",
   "execution_count": null,
   "id": "f275a987e9421aae",
   "metadata": {
    "collapsed": false,
    "ExecuteTime": {
     "end_time": "2024-03-02T14:53:47.233933300Z",
     "start_time": "2024-03-02T14:53:45.916086900Z"
    }
   },
   "outputs": [
    {
     "name": "stderr",
     "output_type": "stream",
     "text": [
      "C:\\Users\\Administrador\\OneDrive\\Escritorio\\Uni\\Tercero Uni\\AA-LAB1\\venv\\lib\\site-packages\\scipy\\optimize\\_nnls.py:135: LinAlgWarning: Ill-conditioned matrix (rcond=2.41046e-17): result may not be accurate.\n",
      "  s[P] = solve(AtA[P_ind[:, None], P_ind[None, :]], Atb[P],\n",
      "C:\\Users\\Administrador\\OneDrive\\Escritorio\\Uni\\Tercero Uni\\AA-LAB1\\venv\\lib\\site-packages\\scipy\\optimize\\_nnls.py:135: LinAlgWarning: Ill-conditioned matrix (rcond=2.21305e-17): result may not be accurate.\n",
      "  s[P] = solve(AtA[P_ind[:, None], P_ind[None, :]], Atb[P],\n",
      "C:\\Users\\Administrador\\OneDrive\\Escritorio\\Uni\\Tercero Uni\\AA-LAB1\\venv\\lib\\site-packages\\scipy\\optimize\\_nnls.py:135: LinAlgWarning: Ill-conditioned matrix (rcond=2.12081e-17): result may not be accurate.\n",
      "  s[P] = solve(AtA[P_ind[:, None], P_ind[None, :]], Atb[P],\n",
      "C:\\Users\\Administrador\\OneDrive\\Escritorio\\Uni\\Tercero Uni\\AA-LAB1\\venv\\lib\\site-packages\\scipy\\optimize\\_nnls.py:135: LinAlgWarning: Ill-conditioned matrix (rcond=2.36438e-17): result may not be accurate.\n",
      "  s[P] = solve(AtA[P_ind[:, None], P_ind[None, :]], Atb[P],\n",
      "C:\\Users\\Administrador\\OneDrive\\Escritorio\\Uni\\Tercero Uni\\AA-LAB1\\venv\\lib\\site-packages\\scipy\\optimize\\_nnls.py:135: LinAlgWarning: Ill-conditioned matrix (rcond=2.26687e-17): result may not be accurate.\n",
      "  s[P] = solve(AtA[P_ind[:, None], P_ind[None, :]], Atb[P],\n",
      "C:\\Users\\Administrador\\OneDrive\\Escritorio\\Uni\\Tercero Uni\\AA-LAB1\\venv\\lib\\site-packages\\scipy\\optimize\\_nnls.py:135: LinAlgWarning: Ill-conditioned matrix (rcond=2.41046e-17): result may not be accurate.\n",
      "  s[P] = solve(AtA[P_ind[:, None], P_ind[None, :]], Atb[P],\n",
      "C:\\Users\\Administrador\\OneDrive\\Escritorio\\Uni\\Tercero Uni\\AA-LAB1\\venv\\lib\\site-packages\\scipy\\optimize\\_nnls.py:135: LinAlgWarning: Ill-conditioned matrix (rcond=2.21305e-17): result may not be accurate.\n",
      "  s[P] = solve(AtA[P_ind[:, None], P_ind[None, :]], Atb[P],\n",
      "C:\\Users\\Administrador\\OneDrive\\Escritorio\\Uni\\Tercero Uni\\AA-LAB1\\venv\\lib\\site-packages\\scipy\\optimize\\_nnls.py:135: LinAlgWarning: Ill-conditioned matrix (rcond=2.12081e-17): result may not be accurate.\n",
      "  s[P] = solve(AtA[P_ind[:, None], P_ind[None, :]], Atb[P],\n",
      "C:\\Users\\Administrador\\OneDrive\\Escritorio\\Uni\\Tercero Uni\\AA-LAB1\\venv\\lib\\site-packages\\scipy\\optimize\\_nnls.py:135: LinAlgWarning: Ill-conditioned matrix (rcond=2.36438e-17): result may not be accurate.\n",
      "  s[P] = solve(AtA[P_ind[:, None], P_ind[None, :]], Atb[P],\n",
      "C:\\Users\\Administrador\\OneDrive\\Escritorio\\Uni\\Tercero Uni\\AA-LAB1\\venv\\lib\\site-packages\\scipy\\optimize\\_nnls.py:135: LinAlgWarning: Ill-conditioned matrix (rcond=2.26687e-17): result may not be accurate.\n",
      "  s[P] = solve(AtA[P_ind[:, None], P_ind[None, :]], Atb[P],\n",
      "C:\\Users\\Administrador\\OneDrive\\Escritorio\\Uni\\Tercero Uni\\AA-LAB1\\venv\\lib\\site-packages\\scipy\\optimize\\_nnls.py:135: LinAlgWarning: Ill-conditioned matrix (rcond=2.41046e-17): result may not be accurate.\n",
      "  s[P] = solve(AtA[P_ind[:, None], P_ind[None, :]], Atb[P],\n",
      "C:\\Users\\Administrador\\OneDrive\\Escritorio\\Uni\\Tercero Uni\\AA-LAB1\\venv\\lib\\site-packages\\scipy\\optimize\\_nnls.py:135: LinAlgWarning: Ill-conditioned matrix (rcond=2.21305e-17): result may not be accurate.\n",
      "  s[P] = solve(AtA[P_ind[:, None], P_ind[None, :]], Atb[P],\n",
      "C:\\Users\\Administrador\\OneDrive\\Escritorio\\Uni\\Tercero Uni\\AA-LAB1\\venv\\lib\\site-packages\\scipy\\optimize\\_nnls.py:135: LinAlgWarning: Ill-conditioned matrix (rcond=2.12081e-17): result may not be accurate.\n",
      "  s[P] = solve(AtA[P_ind[:, None], P_ind[None, :]], Atb[P],\n",
      "C:\\Users\\Administrador\\OneDrive\\Escritorio\\Uni\\Tercero Uni\\AA-LAB1\\venv\\lib\\site-packages\\scipy\\optimize\\_nnls.py:135: LinAlgWarning: Ill-conditioned matrix (rcond=2.36438e-17): result may not be accurate.\n",
      "  s[P] = solve(AtA[P_ind[:, None], P_ind[None, :]], Atb[P],\n",
      "C:\\Users\\Administrador\\OneDrive\\Escritorio\\Uni\\Tercero Uni\\AA-LAB1\\venv\\lib\\site-packages\\scipy\\optimize\\_nnls.py:135: LinAlgWarning: Ill-conditioned matrix (rcond=2.26687e-17): result may not be accurate.\n",
      "  s[P] = solve(AtA[P_ind[:, None], P_ind[None, :]], Atb[P],\n",
      "C:\\Users\\Administrador\\OneDrive\\Escritorio\\Uni\\Tercero Uni\\AA-LAB1\\venv\\lib\\site-packages\\scipy\\optimize\\_nnls.py:135: LinAlgWarning: Ill-conditioned matrix (rcond=2.41046e-17): result may not be accurate.\n",
      "  s[P] = solve(AtA[P_ind[:, None], P_ind[None, :]], Atb[P],\n",
      "C:\\Users\\Administrador\\OneDrive\\Escritorio\\Uni\\Tercero Uni\\AA-LAB1\\venv\\lib\\site-packages\\scipy\\optimize\\_nnls.py:135: LinAlgWarning: Ill-conditioned matrix (rcond=2.21305e-17): result may not be accurate.\n",
      "  s[P] = solve(AtA[P_ind[:, None], P_ind[None, :]], Atb[P],\n",
      "C:\\Users\\Administrador\\OneDrive\\Escritorio\\Uni\\Tercero Uni\\AA-LAB1\\venv\\lib\\site-packages\\scipy\\optimize\\_nnls.py:135: LinAlgWarning: Ill-conditioned matrix (rcond=2.12081e-17): result may not be accurate.\n",
      "  s[P] = solve(AtA[P_ind[:, None], P_ind[None, :]], Atb[P],\n",
      "C:\\Users\\Administrador\\OneDrive\\Escritorio\\Uni\\Tercero Uni\\AA-LAB1\\venv\\lib\\site-packages\\scipy\\optimize\\_nnls.py:135: LinAlgWarning: Ill-conditioned matrix (rcond=2.36438e-17): result may not be accurate.\n",
      "  s[P] = solve(AtA[P_ind[:, None], P_ind[None, :]], Atb[P],\n",
      "C:\\Users\\Administrador\\OneDrive\\Escritorio\\Uni\\Tercero Uni\\AA-LAB1\\venv\\lib\\site-packages\\scipy\\optimize\\_nnls.py:135: LinAlgWarning: Ill-conditioned matrix (rcond=2.26687e-17): result may not be accurate.\n",
      "  s[P] = solve(AtA[P_ind[:, None], P_ind[None, :]], Atb[P],\n",
      "C:\\Users\\Administrador\\OneDrive\\Escritorio\\Uni\\Tercero Uni\\AA-LAB1\\venv\\lib\\site-packages\\scipy\\optimize\\_nnls.py:135: LinAlgWarning: Ill-conditioned matrix (rcond=1.14809e-17): result may not be accurate.\n",
      "  s[P] = solve(AtA[P_ind[:, None], P_ind[None, :]], Atb[P],\n",
      "C:\\Users\\Administrador\\OneDrive\\Escritorio\\Uni\\Tercero Uni\\AA-LAB1\\venv\\lib\\site-packages\\scipy\\optimize\\_nnls.py:135: LinAlgWarning: Ill-conditioned matrix (rcond=1.02082e-17): result may not be accurate.\n",
      "  s[P] = solve(AtA[P_ind[:, None], P_ind[None, :]], Atb[P],\n",
      "C:\\Users\\Administrador\\OneDrive\\Escritorio\\Uni\\Tercero Uni\\AA-LAB1\\venv\\lib\\site-packages\\scipy\\optimize\\_nnls.py:145: LinAlgWarning: Ill-conditioned matrix (rcond=1.35645e-17): result may not be accurate.\n",
      "  s[P] = solve(AtA[np.ix_(P, P)], Atb[P], assume_a='sym',\n",
      "C:\\Users\\Administrador\\OneDrive\\Escritorio\\Uni\\Tercero Uni\\AA-LAB1\\venv\\lib\\site-packages\\scipy\\optimize\\_nnls.py:135: LinAlgWarning: Ill-conditioned matrix (rcond=1.08655e-17): result may not be accurate.\n",
      "  s[P] = solve(AtA[P_ind[:, None], P_ind[None, :]], Atb[P],\n",
      "C:\\Users\\Administrador\\OneDrive\\Escritorio\\Uni\\Tercero Uni\\AA-LAB1\\venv\\lib\\site-packages\\scipy\\optimize\\_nnls.py:135: LinAlgWarning: Ill-conditioned matrix (rcond=1.42562e-17): result may not be accurate.\n",
      "  s[P] = solve(AtA[P_ind[:, None], P_ind[None, :]], Atb[P],\n",
      "C:\\Users\\Administrador\\OneDrive\\Escritorio\\Uni\\Tercero Uni\\AA-LAB1\\venv\\lib\\site-packages\\scipy\\optimize\\_nnls.py:135: LinAlgWarning: Ill-conditioned matrix (rcond=1.11456e-17): result may not be accurate.\n",
      "  s[P] = solve(AtA[P_ind[:, None], P_ind[None, :]], Atb[P],\n",
      "C:\\Users\\Administrador\\OneDrive\\Escritorio\\Uni\\Tercero Uni\\AA-LAB1\\venv\\lib\\site-packages\\scipy\\optimize\\_nnls.py:135: LinAlgWarning: Ill-conditioned matrix (rcond=1.14809e-17): result may not be accurate.\n",
      "  s[P] = solve(AtA[P_ind[:, None], P_ind[None, :]], Atb[P],\n",
      "C:\\Users\\Administrador\\OneDrive\\Escritorio\\Uni\\Tercero Uni\\AA-LAB1\\venv\\lib\\site-packages\\scipy\\optimize\\_nnls.py:135: LinAlgWarning: Ill-conditioned matrix (rcond=1.02082e-17): result may not be accurate.\n",
      "  s[P] = solve(AtA[P_ind[:, None], P_ind[None, :]], Atb[P],\n",
      "C:\\Users\\Administrador\\OneDrive\\Escritorio\\Uni\\Tercero Uni\\AA-LAB1\\venv\\lib\\site-packages\\scipy\\optimize\\_nnls.py:145: LinAlgWarning: Ill-conditioned matrix (rcond=1.35645e-17): result may not be accurate.\n",
      "  s[P] = solve(AtA[np.ix_(P, P)], Atb[P], assume_a='sym',\n",
      "C:\\Users\\Administrador\\OneDrive\\Escritorio\\Uni\\Tercero Uni\\AA-LAB1\\venv\\lib\\site-packages\\scipy\\optimize\\_nnls.py:135: LinAlgWarning: Ill-conditioned matrix (rcond=1.08655e-17): result may not be accurate.\n",
      "  s[P] = solve(AtA[P_ind[:, None], P_ind[None, :]], Atb[P],\n",
      "C:\\Users\\Administrador\\OneDrive\\Escritorio\\Uni\\Tercero Uni\\AA-LAB1\\venv\\lib\\site-packages\\scipy\\optimize\\_nnls.py:135: LinAlgWarning: Ill-conditioned matrix (rcond=1.42562e-17): result may not be accurate.\n",
      "  s[P] = solve(AtA[P_ind[:, None], P_ind[None, :]], Atb[P],\n",
      "C:\\Users\\Administrador\\OneDrive\\Escritorio\\Uni\\Tercero Uni\\AA-LAB1\\venv\\lib\\site-packages\\scipy\\optimize\\_nnls.py:135: LinAlgWarning: Ill-conditioned matrix (rcond=1.11456e-17): result may not be accurate.\n",
      "  s[P] = solve(AtA[P_ind[:, None], P_ind[None, :]], Atb[P],\n",
      "C:\\Users\\Administrador\\OneDrive\\Escritorio\\Uni\\Tercero Uni\\AA-LAB1\\venv\\lib\\site-packages\\scipy\\optimize\\_nnls.py:135: LinAlgWarning: Ill-conditioned matrix (rcond=1.14809e-17): result may not be accurate.\n",
      "  s[P] = solve(AtA[P_ind[:, None], P_ind[None, :]], Atb[P],\n",
      "C:\\Users\\Administrador\\OneDrive\\Escritorio\\Uni\\Tercero Uni\\AA-LAB1\\venv\\lib\\site-packages\\scipy\\optimize\\_nnls.py:135: LinAlgWarning: Ill-conditioned matrix (rcond=1.02082e-17): result may not be accurate.\n",
      "  s[P] = solve(AtA[P_ind[:, None], P_ind[None, :]], Atb[P],\n",
      "C:\\Users\\Administrador\\OneDrive\\Escritorio\\Uni\\Tercero Uni\\AA-LAB1\\venv\\lib\\site-packages\\scipy\\optimize\\_nnls.py:145: LinAlgWarning: Ill-conditioned matrix (rcond=1.35645e-17): result may not be accurate.\n",
      "  s[P] = solve(AtA[np.ix_(P, P)], Atb[P], assume_a='sym',\n",
      "C:\\Users\\Administrador\\OneDrive\\Escritorio\\Uni\\Tercero Uni\\AA-LAB1\\venv\\lib\\site-packages\\scipy\\optimize\\_nnls.py:135: LinAlgWarning: Ill-conditioned matrix (rcond=1.08655e-17): result may not be accurate.\n",
      "  s[P] = solve(AtA[P_ind[:, None], P_ind[None, :]], Atb[P],\n",
      "C:\\Users\\Administrador\\OneDrive\\Escritorio\\Uni\\Tercero Uni\\AA-LAB1\\venv\\lib\\site-packages\\scipy\\optimize\\_nnls.py:135: LinAlgWarning: Ill-conditioned matrix (rcond=1.42562e-17): result may not be accurate.\n",
      "  s[P] = solve(AtA[P_ind[:, None], P_ind[None, :]], Atb[P],\n",
      "C:\\Users\\Administrador\\OneDrive\\Escritorio\\Uni\\Tercero Uni\\AA-LAB1\\venv\\lib\\site-packages\\scipy\\optimize\\_nnls.py:135: LinAlgWarning: Ill-conditioned matrix (rcond=1.11456e-17): result may not be accurate.\n",
      "  s[P] = solve(AtA[P_ind[:, None], P_ind[None, :]], Atb[P],\n",
      "C:\\Users\\Administrador\\OneDrive\\Escritorio\\Uni\\Tercero Uni\\AA-LAB1\\venv\\lib\\site-packages\\scipy\\optimize\\_nnls.py:135: LinAlgWarning: Ill-conditioned matrix (rcond=1.14809e-17): result may not be accurate.\n",
      "  s[P] = solve(AtA[P_ind[:, None], P_ind[None, :]], Atb[P],\n",
      "C:\\Users\\Administrador\\OneDrive\\Escritorio\\Uni\\Tercero Uni\\AA-LAB1\\venv\\lib\\site-packages\\scipy\\optimize\\_nnls.py:135: LinAlgWarning: Ill-conditioned matrix (rcond=1.02082e-17): result may not be accurate.\n",
      "  s[P] = solve(AtA[P_ind[:, None], P_ind[None, :]], Atb[P],\n",
      "C:\\Users\\Administrador\\OneDrive\\Escritorio\\Uni\\Tercero Uni\\AA-LAB1\\venv\\lib\\site-packages\\scipy\\optimize\\_nnls.py:145: LinAlgWarning: Ill-conditioned matrix (rcond=1.35645e-17): result may not be accurate.\n",
      "  s[P] = solve(AtA[np.ix_(P, P)], Atb[P], assume_a='sym',\n",
      "C:\\Users\\Administrador\\OneDrive\\Escritorio\\Uni\\Tercero Uni\\AA-LAB1\\venv\\lib\\site-packages\\scipy\\optimize\\_nnls.py:135: LinAlgWarning: Ill-conditioned matrix (rcond=1.08655e-17): result may not be accurate.\n",
      "  s[P] = solve(AtA[P_ind[:, None], P_ind[None, :]], Atb[P],\n",
      "C:\\Users\\Administrador\\OneDrive\\Escritorio\\Uni\\Tercero Uni\\AA-LAB1\\venv\\lib\\site-packages\\scipy\\optimize\\_nnls.py:135: LinAlgWarning: Ill-conditioned matrix (rcond=1.42562e-17): result may not be accurate.\n",
      "  s[P] = solve(AtA[P_ind[:, None], P_ind[None, :]], Atb[P],\n",
      "C:\\Users\\Administrador\\OneDrive\\Escritorio\\Uni\\Tercero Uni\\AA-LAB1\\venv\\lib\\site-packages\\scipy\\optimize\\_nnls.py:135: LinAlgWarning: Ill-conditioned matrix (rcond=1.11456e-17): result may not be accurate.\n",
      "  s[P] = solve(AtA[P_ind[:, None], P_ind[None, :]], Atb[P],\n",
      "C:\\Users\\Administrador\\OneDrive\\Escritorio\\Uni\\Tercero Uni\\AA-LAB1\\venv\\lib\\site-packages\\scipy\\optimize\\_nnls.py:135: LinAlgWarning: Ill-conditioned matrix (rcond=2.41046e-17): result may not be accurate.\n",
      "  s[P] = solve(AtA[P_ind[:, None], P_ind[None, :]], Atb[P],\n",
      "C:\\Users\\Administrador\\OneDrive\\Escritorio\\Uni\\Tercero Uni\\AA-LAB1\\venv\\lib\\site-packages\\scipy\\optimize\\_nnls.py:135: LinAlgWarning: Ill-conditioned matrix (rcond=2.21305e-17): result may not be accurate.\n",
      "  s[P] = solve(AtA[P_ind[:, None], P_ind[None, :]], Atb[P],\n",
      "C:\\Users\\Administrador\\OneDrive\\Escritorio\\Uni\\Tercero Uni\\AA-LAB1\\venv\\lib\\site-packages\\scipy\\optimize\\_nnls.py:135: LinAlgWarning: Ill-conditioned matrix (rcond=2.12081e-17): result may not be accurate.\n",
      "  s[P] = solve(AtA[P_ind[:, None], P_ind[None, :]], Atb[P],\n",
      "C:\\Users\\Administrador\\OneDrive\\Escritorio\\Uni\\Tercero Uni\\AA-LAB1\\venv\\lib\\site-packages\\scipy\\optimize\\_nnls.py:135: LinAlgWarning: Ill-conditioned matrix (rcond=2.36438e-17): result may not be accurate.\n",
      "  s[P] = solve(AtA[P_ind[:, None], P_ind[None, :]], Atb[P],\n",
      "C:\\Users\\Administrador\\OneDrive\\Escritorio\\Uni\\Tercero Uni\\AA-LAB1\\venv\\lib\\site-packages\\scipy\\optimize\\_nnls.py:135: LinAlgWarning: Ill-conditioned matrix (rcond=2.26687e-17): result may not be accurate.\n",
      "  s[P] = solve(AtA[P_ind[:, None], P_ind[None, :]], Atb[P],\n",
      "C:\\Users\\Administrador\\OneDrive\\Escritorio\\Uni\\Tercero Uni\\AA-LAB1\\venv\\lib\\site-packages\\scipy\\optimize\\_nnls.py:135: LinAlgWarning: Ill-conditioned matrix (rcond=2.41046e-17): result may not be accurate.\n",
      "  s[P] = solve(AtA[P_ind[:, None], P_ind[None, :]], Atb[P],\n",
      "C:\\Users\\Administrador\\OneDrive\\Escritorio\\Uni\\Tercero Uni\\AA-LAB1\\venv\\lib\\site-packages\\scipy\\optimize\\_nnls.py:135: LinAlgWarning: Ill-conditioned matrix (rcond=2.21305e-17): result may not be accurate.\n",
      "  s[P] = solve(AtA[P_ind[:, None], P_ind[None, :]], Atb[P],\n",
      "C:\\Users\\Administrador\\OneDrive\\Escritorio\\Uni\\Tercero Uni\\AA-LAB1\\venv\\lib\\site-packages\\scipy\\optimize\\_nnls.py:135: LinAlgWarning: Ill-conditioned matrix (rcond=2.12081e-17): result may not be accurate.\n",
      "  s[P] = solve(AtA[P_ind[:, None], P_ind[None, :]], Atb[P],\n",
      "C:\\Users\\Administrador\\OneDrive\\Escritorio\\Uni\\Tercero Uni\\AA-LAB1\\venv\\lib\\site-packages\\scipy\\optimize\\_nnls.py:135: LinAlgWarning: Ill-conditioned matrix (rcond=2.36438e-17): result may not be accurate.\n",
      "  s[P] = solve(AtA[P_ind[:, None], P_ind[None, :]], Atb[P],\n",
      "C:\\Users\\Administrador\\OneDrive\\Escritorio\\Uni\\Tercero Uni\\AA-LAB1\\venv\\lib\\site-packages\\scipy\\optimize\\_nnls.py:135: LinAlgWarning: Ill-conditioned matrix (rcond=2.26687e-17): result may not be accurate.\n",
      "  s[P] = solve(AtA[P_ind[:, None], P_ind[None, :]], Atb[P],\n",
      "C:\\Users\\Administrador\\OneDrive\\Escritorio\\Uni\\Tercero Uni\\AA-LAB1\\venv\\lib\\site-packages\\scipy\\optimize\\_nnls.py:135: LinAlgWarning: Ill-conditioned matrix (rcond=2.41046e-17): result may not be accurate.\n",
      "  s[P] = solve(AtA[P_ind[:, None], P_ind[None, :]], Atb[P],\n",
      "C:\\Users\\Administrador\\OneDrive\\Escritorio\\Uni\\Tercero Uni\\AA-LAB1\\venv\\lib\\site-packages\\scipy\\optimize\\_nnls.py:135: LinAlgWarning: Ill-conditioned matrix (rcond=2.21305e-17): result may not be accurate.\n",
      "  s[P] = solve(AtA[P_ind[:, None], P_ind[None, :]], Atb[P],\n",
      "C:\\Users\\Administrador\\OneDrive\\Escritorio\\Uni\\Tercero Uni\\AA-LAB1\\venv\\lib\\site-packages\\scipy\\optimize\\_nnls.py:135: LinAlgWarning: Ill-conditioned matrix (rcond=2.12081e-17): result may not be accurate.\n",
      "  s[P] = solve(AtA[P_ind[:, None], P_ind[None, :]], Atb[P],\n",
      "C:\\Users\\Administrador\\OneDrive\\Escritorio\\Uni\\Tercero Uni\\AA-LAB1\\venv\\lib\\site-packages\\scipy\\optimize\\_nnls.py:135: LinAlgWarning: Ill-conditioned matrix (rcond=2.36438e-17): result may not be accurate.\n",
      "  s[P] = solve(AtA[P_ind[:, None], P_ind[None, :]], Atb[P],\n",
      "C:\\Users\\Administrador\\OneDrive\\Escritorio\\Uni\\Tercero Uni\\AA-LAB1\\venv\\lib\\site-packages\\scipy\\optimize\\_nnls.py:135: LinAlgWarning: Ill-conditioned matrix (rcond=2.26687e-17): result may not be accurate.\n",
      "  s[P] = solve(AtA[P_ind[:, None], P_ind[None, :]], Atb[P],\n",
      "C:\\Users\\Administrador\\OneDrive\\Escritorio\\Uni\\Tercero Uni\\AA-LAB1\\venv\\lib\\site-packages\\scipy\\optimize\\_nnls.py:135: LinAlgWarning: Ill-conditioned matrix (rcond=2.41046e-17): result may not be accurate.\n",
      "  s[P] = solve(AtA[P_ind[:, None], P_ind[None, :]], Atb[P],\n",
      "C:\\Users\\Administrador\\OneDrive\\Escritorio\\Uni\\Tercero Uni\\AA-LAB1\\venv\\lib\\site-packages\\scipy\\optimize\\_nnls.py:135: LinAlgWarning: Ill-conditioned matrix (rcond=2.21305e-17): result may not be accurate.\n",
      "  s[P] = solve(AtA[P_ind[:, None], P_ind[None, :]], Atb[P],\n",
      "C:\\Users\\Administrador\\OneDrive\\Escritorio\\Uni\\Tercero Uni\\AA-LAB1\\venv\\lib\\site-packages\\scipy\\optimize\\_nnls.py:135: LinAlgWarning: Ill-conditioned matrix (rcond=2.12081e-17): result may not be accurate.\n",
      "  s[P] = solve(AtA[P_ind[:, None], P_ind[None, :]], Atb[P],\n",
      "C:\\Users\\Administrador\\OneDrive\\Escritorio\\Uni\\Tercero Uni\\AA-LAB1\\venv\\lib\\site-packages\\scipy\\optimize\\_nnls.py:135: LinAlgWarning: Ill-conditioned matrix (rcond=2.36438e-17): result may not be accurate.\n",
      "  s[P] = solve(AtA[P_ind[:, None], P_ind[None, :]], Atb[P],\n",
      "C:\\Users\\Administrador\\OneDrive\\Escritorio\\Uni\\Tercero Uni\\AA-LAB1\\venv\\lib\\site-packages\\scipy\\optimize\\_nnls.py:135: LinAlgWarning: Ill-conditioned matrix (rcond=2.26687e-17): result may not be accurate.\n",
      "  s[P] = solve(AtA[P_ind[:, None], P_ind[None, :]], Atb[P],\n",
      "C:\\Users\\Administrador\\OneDrive\\Escritorio\\Uni\\Tercero Uni\\AA-LAB1\\venv\\lib\\site-packages\\scipy\\optimize\\_nnls.py:135: LinAlgWarning: Ill-conditioned matrix (rcond=1.14809e-17): result may not be accurate.\n",
      "  s[P] = solve(AtA[P_ind[:, None], P_ind[None, :]], Atb[P],\n",
      "C:\\Users\\Administrador\\OneDrive\\Escritorio\\Uni\\Tercero Uni\\AA-LAB1\\venv\\lib\\site-packages\\scipy\\optimize\\_nnls.py:135: LinAlgWarning: Ill-conditioned matrix (rcond=1.02082e-17): result may not be accurate.\n",
      "  s[P] = solve(AtA[P_ind[:, None], P_ind[None, :]], Atb[P],\n",
      "C:\\Users\\Administrador\\OneDrive\\Escritorio\\Uni\\Tercero Uni\\AA-LAB1\\venv\\lib\\site-packages\\scipy\\optimize\\_nnls.py:145: LinAlgWarning: Ill-conditioned matrix (rcond=1.35645e-17): result may not be accurate.\n",
      "  s[P] = solve(AtA[np.ix_(P, P)], Atb[P], assume_a='sym',\n",
      "C:\\Users\\Administrador\\OneDrive\\Escritorio\\Uni\\Tercero Uni\\AA-LAB1\\venv\\lib\\site-packages\\scipy\\optimize\\_nnls.py:135: LinAlgWarning: Ill-conditioned matrix (rcond=1.08655e-17): result may not be accurate.\n",
      "  s[P] = solve(AtA[P_ind[:, None], P_ind[None, :]], Atb[P],\n",
      "C:\\Users\\Administrador\\OneDrive\\Escritorio\\Uni\\Tercero Uni\\AA-LAB1\\venv\\lib\\site-packages\\scipy\\optimize\\_nnls.py:135: LinAlgWarning: Ill-conditioned matrix (rcond=1.42562e-17): result may not be accurate.\n",
      "  s[P] = solve(AtA[P_ind[:, None], P_ind[None, :]], Atb[P],\n",
      "C:\\Users\\Administrador\\OneDrive\\Escritorio\\Uni\\Tercero Uni\\AA-LAB1\\venv\\lib\\site-packages\\scipy\\optimize\\_nnls.py:135: LinAlgWarning: Ill-conditioned matrix (rcond=1.11456e-17): result may not be accurate.\n",
      "  s[P] = solve(AtA[P_ind[:, None], P_ind[None, :]], Atb[P],\n",
      "C:\\Users\\Administrador\\OneDrive\\Escritorio\\Uni\\Tercero Uni\\AA-LAB1\\venv\\lib\\site-packages\\scipy\\optimize\\_nnls.py:135: LinAlgWarning: Ill-conditioned matrix (rcond=1.14809e-17): result may not be accurate.\n",
      "  s[P] = solve(AtA[P_ind[:, None], P_ind[None, :]], Atb[P],\n",
      "C:\\Users\\Administrador\\OneDrive\\Escritorio\\Uni\\Tercero Uni\\AA-LAB1\\venv\\lib\\site-packages\\scipy\\optimize\\_nnls.py:135: LinAlgWarning: Ill-conditioned matrix (rcond=1.02082e-17): result may not be accurate.\n",
      "  s[P] = solve(AtA[P_ind[:, None], P_ind[None, :]], Atb[P],\n",
      "C:\\Users\\Administrador\\OneDrive\\Escritorio\\Uni\\Tercero Uni\\AA-LAB1\\venv\\lib\\site-packages\\scipy\\optimize\\_nnls.py:145: LinAlgWarning: Ill-conditioned matrix (rcond=1.35645e-17): result may not be accurate.\n",
      "  s[P] = solve(AtA[np.ix_(P, P)], Atb[P], assume_a='sym',\n",
      "C:\\Users\\Administrador\\OneDrive\\Escritorio\\Uni\\Tercero Uni\\AA-LAB1\\venv\\lib\\site-packages\\scipy\\optimize\\_nnls.py:135: LinAlgWarning: Ill-conditioned matrix (rcond=1.08655e-17): result may not be accurate.\n",
      "  s[P] = solve(AtA[P_ind[:, None], P_ind[None, :]], Atb[P],\n",
      "C:\\Users\\Administrador\\OneDrive\\Escritorio\\Uni\\Tercero Uni\\AA-LAB1\\venv\\lib\\site-packages\\scipy\\optimize\\_nnls.py:135: LinAlgWarning: Ill-conditioned matrix (rcond=1.42562e-17): result may not be accurate.\n",
      "  s[P] = solve(AtA[P_ind[:, None], P_ind[None, :]], Atb[P],\n",
      "C:\\Users\\Administrador\\OneDrive\\Escritorio\\Uni\\Tercero Uni\\AA-LAB1\\venv\\lib\\site-packages\\scipy\\optimize\\_nnls.py:135: LinAlgWarning: Ill-conditioned matrix (rcond=1.11456e-17): result may not be accurate.\n",
      "  s[P] = solve(AtA[P_ind[:, None], P_ind[None, :]], Atb[P],\n"
     ]
    },
    {
     "name": "stdout",
     "output_type": "stream",
     "text": [
      "Mejor modelo: LinearRegression()\n",
      "Mejorres parámetros: {'copy_X': True, 'fit_intercept': True, 'n_jobs': None, 'positive': False}\n",
      "RMSE: 559.7095305382695\n"
     ]
    },
    {
     "name": "stderr",
     "output_type": "stream",
     "text": [
      "C:\\Users\\Administrador\\OneDrive\\Escritorio\\Uni\\Tercero Uni\\AA-LAB1\\venv\\lib\\site-packages\\scipy\\optimize\\_nnls.py:135: LinAlgWarning: Ill-conditioned matrix (rcond=1.14809e-17): result may not be accurate.\n",
      "  s[P] = solve(AtA[P_ind[:, None], P_ind[None, :]], Atb[P],\n",
      "C:\\Users\\Administrador\\OneDrive\\Escritorio\\Uni\\Tercero Uni\\AA-LAB1\\venv\\lib\\site-packages\\scipy\\optimize\\_nnls.py:135: LinAlgWarning: Ill-conditioned matrix (rcond=1.02082e-17): result may not be accurate.\n",
      "  s[P] = solve(AtA[P_ind[:, None], P_ind[None, :]], Atb[P],\n",
      "C:\\Users\\Administrador\\OneDrive\\Escritorio\\Uni\\Tercero Uni\\AA-LAB1\\venv\\lib\\site-packages\\scipy\\optimize\\_nnls.py:145: LinAlgWarning: Ill-conditioned matrix (rcond=1.35645e-17): result may not be accurate.\n",
      "  s[P] = solve(AtA[np.ix_(P, P)], Atb[P], assume_a='sym',\n",
      "C:\\Users\\Administrador\\OneDrive\\Escritorio\\Uni\\Tercero Uni\\AA-LAB1\\venv\\lib\\site-packages\\scipy\\optimize\\_nnls.py:135: LinAlgWarning: Ill-conditioned matrix (rcond=1.08655e-17): result may not be accurate.\n",
      "  s[P] = solve(AtA[P_ind[:, None], P_ind[None, :]], Atb[P],\n",
      "C:\\Users\\Administrador\\OneDrive\\Escritorio\\Uni\\Tercero Uni\\AA-LAB1\\venv\\lib\\site-packages\\scipy\\optimize\\_nnls.py:135: LinAlgWarning: Ill-conditioned matrix (rcond=1.42562e-17): result may not be accurate.\n",
      "  s[P] = solve(AtA[P_ind[:, None], P_ind[None, :]], Atb[P],\n",
      "C:\\Users\\Administrador\\OneDrive\\Escritorio\\Uni\\Tercero Uni\\AA-LAB1\\venv\\lib\\site-packages\\scipy\\optimize\\_nnls.py:135: LinAlgWarning: Ill-conditioned matrix (rcond=1.11456e-17): result may not be accurate.\n",
      "  s[P] = solve(AtA[P_ind[:, None], P_ind[None, :]], Atb[P],\n",
      "C:\\Users\\Administrador\\OneDrive\\Escritorio\\Uni\\Tercero Uni\\AA-LAB1\\venv\\lib\\site-packages\\scipy\\optimize\\_nnls.py:135: LinAlgWarning: Ill-conditioned matrix (rcond=1.14809e-17): result may not be accurate.\n",
      "  s[P] = solve(AtA[P_ind[:, None], P_ind[None, :]], Atb[P],\n",
      "C:\\Users\\Administrador\\OneDrive\\Escritorio\\Uni\\Tercero Uni\\AA-LAB1\\venv\\lib\\site-packages\\scipy\\optimize\\_nnls.py:135: LinAlgWarning: Ill-conditioned matrix (rcond=1.02082e-17): result may not be accurate.\n",
      "  s[P] = solve(AtA[P_ind[:, None], P_ind[None, :]], Atb[P],\n",
      "C:\\Users\\Administrador\\OneDrive\\Escritorio\\Uni\\Tercero Uni\\AA-LAB1\\venv\\lib\\site-packages\\scipy\\optimize\\_nnls.py:145: LinAlgWarning: Ill-conditioned matrix (rcond=1.35645e-17): result may not be accurate.\n",
      "  s[P] = solve(AtA[np.ix_(P, P)], Atb[P], assume_a='sym',\n",
      "C:\\Users\\Administrador\\OneDrive\\Escritorio\\Uni\\Tercero Uni\\AA-LAB1\\venv\\lib\\site-packages\\scipy\\optimize\\_nnls.py:135: LinAlgWarning: Ill-conditioned matrix (rcond=1.08655e-17): result may not be accurate.\n",
      "  s[P] = solve(AtA[P_ind[:, None], P_ind[None, :]], Atb[P],\n",
      "C:\\Users\\Administrador\\OneDrive\\Escritorio\\Uni\\Tercero Uni\\AA-LAB1\\venv\\lib\\site-packages\\scipy\\optimize\\_nnls.py:135: LinAlgWarning: Ill-conditioned matrix (rcond=1.42562e-17): result may not be accurate.\n",
      "  s[P] = solve(AtA[P_ind[:, None], P_ind[None, :]], Atb[P],\n",
      "C:\\Users\\Administrador\\OneDrive\\Escritorio\\Uni\\Tercero Uni\\AA-LAB1\\venv\\lib\\site-packages\\scipy\\optimize\\_nnls.py:135: LinAlgWarning: Ill-conditioned matrix (rcond=1.11456e-17): result may not be accurate.\n",
      "  s[P] = solve(AtA[P_ind[:, None], P_ind[None, :]], Atb[P],\n"
     ]
    }
   ],
   "source": [
    "from sklearn.linear_model import LinearRegression\n",
    "from sklearn.metrics import mean_squared_error\n",
    "from sklearn.model_selection import GridSearchCV\n",
    "\n",
    "\n",
    "param_grid = {\n",
    "    'fit_intercept': [True, False],\n",
    "    'copy_X': [True, False],\n",
    "    'n_jobs': [-1],  # -1 indica utilizar todos los núcleos\n",
    "    'positive': [True, False]\n",
    "}\n",
    "\n",
    "\n",
    "# Crear el modelo de regresión lineal\n",
    "model = LinearRegression()\n",
    "\n",
    "grid_search = GridSearchCV(model,\n",
    "                           param_grid,\n",
    "                           cv=5,\n",
    "                           scoring=\"neg_mean_absolute_percentage_error\"\n",
    "                           )\n",
    "\n",
    "# Entrenar el modelo con los datos de entrenamiento\n",
    "grid_search.fit(X_train, y_train)\n",
    "\n",
    "best_model = grid_search.best_estimator_\n",
    "best_params = grid_search.best_params_\n",
    "\n",
    "y_pred = best_model.predict(X_test)\n",
    "\n",
    "rmse = np.sqrt(mean_squared_error(y_test, y_pred))\n",
    "print(\"Mejor modelo:\",best_model)\n",
    "print(\"Mejorres parámetros:\",best_params)\n",
    "print(\"RMSE:\", rmse)\n",
    "\n"
   ]
  },
  {
   "cell_type": "markdown",
   "source": [
    "Ahora que ya hemos probado con el Lineal Model normal, vamos a probar con la variante de Lasso a ver si conseguimos mejorar el entrenamiento:"
   ],
   "metadata": {
    "collapsed": false
   },
   "id": "b3135ff92e842b77"
  },
  {
   "cell_type": "code",
   "execution_count": 20,
   "outputs": [
    {
     "name": "stderr",
     "output_type": "stream",
     "text": [
      "C:\\Users\\Administrador\\OneDrive\\Escritorio\\Uni\\Tercero Uni\\AA-LAB1\\venv\\lib\\site-packages\\sklearn\\model_selection\\_validation.py:547: FitFailedWarning: \n",
      "6400 fits failed out of a total of 44800.\n",
      "The score on these train-test partitions for these parameters will be set to nan.\n",
      "If these failures are not expected, you can try to debug them by setting error_score='raise'.\n",
      "\n",
      "Below are more details about the failures:\n",
      "--------------------------------------------------------------------------------\n",
      "3200 fits failed with the following error:\n",
      "Traceback (most recent call last):\n",
      "  File \"C:\\Users\\Administrador\\OneDrive\\Escritorio\\Uni\\Tercero Uni\\AA-LAB1\\venv\\lib\\site-packages\\sklearn\\model_selection\\_validation.py\", line 895, in _fit_and_score\n",
      "    estimator.fit(X_train, y_train, **fit_params)\n",
      "  File \"C:\\Users\\Administrador\\OneDrive\\Escritorio\\Uni\\Tercero Uni\\AA-LAB1\\venv\\lib\\site-packages\\sklearn\\base.py\", line 1474, in wrapper\n",
      "    return fit_method(estimator, *args, **kwargs)\n",
      "  File \"C:\\Users\\Administrador\\OneDrive\\Escritorio\\Uni\\Tercero Uni\\AA-LAB1\\venv\\lib\\site-packages\\sklearn\\linear_model\\_coordinate_descent.py\", line 1050, in fit\n",
      "    _, this_coef, this_dual_gap, this_iter = self.path(\n",
      "  File \"C:\\Users\\Administrador\\OneDrive\\Escritorio\\Uni\\Tercero Uni\\AA-LAB1\\venv\\lib\\site-packages\\sklearn\\utils\\_param_validation.py\", line 186, in wrapper\n",
      "    return func(*args, **kwargs)\n",
      "  File \"C:\\Users\\Administrador\\OneDrive\\Escritorio\\Uni\\Tercero Uni\\AA-LAB1\\venv\\lib\\site-packages\\sklearn\\linear_model\\_coordinate_descent.py\", line 664, in enet_path\n",
      "    model = cd_fast.enet_coordinate_descent_gram(\n",
      "  File \"sklearn\\\\linear_model\\\\_cd_fast.pyx\", line 575, in sklearn.linear_model._cd_fast.enet_coordinate_descent_gram\n",
      "TypeError: an integer is required\n",
      "\n",
      "--------------------------------------------------------------------------------\n",
      "3200 fits failed with the following error:\n",
      "Traceback (most recent call last):\n",
      "  File \"C:\\Users\\Administrador\\OneDrive\\Escritorio\\Uni\\Tercero Uni\\AA-LAB1\\venv\\lib\\site-packages\\sklearn\\model_selection\\_validation.py\", line 895, in _fit_and_score\n",
      "    estimator.fit(X_train, y_train, **fit_params)\n",
      "  File \"C:\\Users\\Administrador\\OneDrive\\Escritorio\\Uni\\Tercero Uni\\AA-LAB1\\venv\\lib\\site-packages\\sklearn\\base.py\", line 1474, in wrapper\n",
      "    return fit_method(estimator, *args, **kwargs)\n",
      "  File \"C:\\Users\\Administrador\\OneDrive\\Escritorio\\Uni\\Tercero Uni\\AA-LAB1\\venv\\lib\\site-packages\\sklearn\\linear_model\\_coordinate_descent.py\", line 1050, in fit\n",
      "    _, this_coef, this_dual_gap, this_iter = self.path(\n",
      "  File \"C:\\Users\\Administrador\\OneDrive\\Escritorio\\Uni\\Tercero Uni\\AA-LAB1\\venv\\lib\\site-packages\\sklearn\\utils\\_param_validation.py\", line 186, in wrapper\n",
      "    return func(*args, **kwargs)\n",
      "  File \"C:\\Users\\Administrador\\OneDrive\\Escritorio\\Uni\\Tercero Uni\\AA-LAB1\\venv\\lib\\site-packages\\sklearn\\linear_model\\_coordinate_descent.py\", line 678, in enet_path\n",
      "    model = cd_fast.enet_coordinate_descent(\n",
      "  File \"sklearn\\\\linear_model\\\\_cd_fast.pyx\", line 100, in sklearn.linear_model._cd_fast.enet_coordinate_descent\n",
      "TypeError: an integer is required\n",
      "\n",
      "  warnings.warn(some_fits_failed_message, FitFailedWarning)\n"
     ]
    },
    {
     "name": "stdout",
     "output_type": "stream",
     "text": [
      "Mejor modelo: Lasso(alpha=0.1, max_iter=12, random_state=7543, selection='random', tol=1.0,\n",
      "      warm_start=True)\n",
      "Mejorres parámetros: {'alpha': 0.1, 'copy_X': True, 'fit_intercept': True, 'max_iter': 12, 'positive': False, 'precompute': False, 'random_state': 7543, 'selection': 'random', 'tol': 1.0, 'warm_start': True}\n",
      "RMSE: 567.7651275011757\n"
     ]
    },
    {
     "name": "stderr",
     "output_type": "stream",
     "text": [
      "C:\\Users\\Administrador\\OneDrive\\Escritorio\\Uni\\Tercero Uni\\AA-LAB1\\venv\\lib\\site-packages\\sklearn\\model_selection\\_search.py:1051: UserWarning: One or more of the test scores are non-finite: [             nan              nan              nan ... -374582.31832023\n",
      " -374582.31832023 -374582.31832023]\n",
      "  warnings.warn(\n"
     ]
    }
   ],
   "source": [
    "from sklearn.linear_model import Lasso\n",
    "from sklearn.model_selection import GridSearchCV, train_test_split\n",
    "from sklearn.metrics import mean_squared_error\n",
    "import numpy as np\n",
    "\n",
    "# Definir los parámetros que deseas probar\n",
    "parameters = {\n",
    "    'alpha': [0.1, 0.5, 1.0, 2.0],  # Valores de regularización\n",
    "    'fit_intercept': [True, False],\n",
    "    'copy_X': [True, False], # pendientes de borrar\n",
    "    'positive': [True, False], \n",
    "    'precompute': [True, False], \n",
    "    'random_state': [7543], \n",
    "    'selection': ['cyclic', 'random'], \n",
    "    'tol': [1**(-10), 1**(-5), 1**(-4), 1**(-3), 1**(-2)], \n",
    "    'warm_start': [True, False]\n",
    "}\n",
    "\n",
    "# Crear el modelo de regresión lineal Lasso\n",
    "model = Lasso()\n",
    "\n",
    "grid_search = GridSearchCV(model, \n",
    "                           parameters, \n",
    "                           scoring='neg_mean_squared_error', \n",
    "                           cv=5)\n",
    "\n",
    "grid_search.fit(X_train, y_train)\n",
    "\n",
    "# Obtener el mejor modelo y sus hiperparámetros\n",
    "best_model = grid_search.best_estimator_\n",
    "best_params = grid_search.best_params_\n",
    "\n",
    "y_pred = best_model.predict(X_test)\n",
    "\n",
    "rmse = np.sqrt(mean_squared_error(y_test, y_pred))\n",
    "print(\"Mejor modelo:\",best_model)\n",
    "print(\"Mejorres parámetros:\",best_params)\n",
    "print(\"RMSE:\", rmse)"
   ],
   "metadata": {
    "collapsed": false,
    "ExecuteTime": {
     "end_time": "2024-03-02T15:07:55.820645800Z",
     "start_time": "2024-03-02T15:00:28.811142500Z"
    }
   },
   "id": "2bc265db12c228b"
  },
  {
   "cell_type": "code",
   "execution_count": 6,
   "id": "3823beec798adab4",
   "metadata": {
    "collapsed": false,
    "ExecuteTime": {
     "end_time": "2024-03-02T14:21:20.198942200Z",
     "start_time": "2024-03-02T14:21:19.590079100Z"
    }
   },
   "outputs": [
    {
     "name": "stdout",
     "output_type": "stream",
     "text": [
      "RMSE of the model: 621.2880027885399\n"
     ]
    }
   ],
   "source": [
    "# Vamos a probar con KNN Regresor\n",
    "from sklearn import neighbors\n",
    "from sklearn import metrics\n",
    "regr = neighbors.KNeighborsRegressor()\n",
    "\n",
    "# We train it\n",
    "regr.fit(X_train, y_train)\n",
    "\n",
    "# We obtain predictions on the test set\n",
    "y_test_pred = regr.predict(X_test)\n",
    "\n",
    "# We compute accuracy\n",
    "rmse_knn = np.sqrt(metrics.mean_squared_error(y_test, y_test_pred))\n",
    "print(f\"RMSE of the model: {rmse_knn}\")"
   ]
  }
 ],
 "metadata": {
  "kernelspec": {
   "display_name": "Python 3",
   "language": "python",
   "name": "python3"
  },
  "language_info": {
   "codemirror_mode": {
    "name": "ipython",
    "version": 2
   },
   "file_extension": ".py",
   "mimetype": "text/x-python",
   "name": "python",
   "nbconvert_exporter": "python",
   "pygments_lexer": "ipython2",
   "version": "3.11.3"
  }
 },
 "nbformat": 4,
 "nbformat_minor": 5
}
