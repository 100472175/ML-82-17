{
 "cells": [
  {
   "cell_type": "markdown",
   "id": "93068dce9f22b25b",
   "metadata": {
    "collapsed": false
   },
   "source": [
    "# Project Introduction:\n",
    "Primer laboratorio de aprendizaje automático, desarrollado por Sergio Barragán Blanco (100472343) y Eduardo Alarcón Navarro (100472175). \n",
    "Grupo 17.\n"
   ]
  },
  {
   "cell_type": "markdown",
   "metadata": {},
   "source": [
    "# 1. EDA\n",
    "Existen 23 carácterísticas que definen cada momento, de las cuales ninguna es categórica, todas son numéricas (con la energía suman 24). No existen valores faltantes, pero si los hubiera, los rellenaríamos con la media del valor superior e inferior antes de randomizar el dataset.\n",
    "\n",
    "No existen tampoco columnas constantes, que se eliminarían. \n",
    "\n",
    "Con todo esto, podemos observar que es un problema de regresión.\n",
    "\n",
    "La variable que estamos intentando predecir es la \"energía\" que es el valor de la enrgía generada 24 horas después. \n",
    "\n",
    "## Correlaciones entre parámetros:\n",
    "Al principio, parece que las columnas lai_lv.13 y lai_hv.13 tienen una correlación, pero según avanza el tiempo, desaparece.\n",
    "\n",
    "## Escala de los datos\n",
    "Entre las diferentes columnas de datos, tenemos valores y magnitudes muy dispares."
   ]
  },
  {
   "cell_type": "code",
   "execution_count": 5,
   "id": "718a0bf13cf1f98b",
   "metadata": {
    "ExecuteTime": {
     "end_time": "2024-02-28T09:15:07.675519200Z",
     "start_time": "2024-02-28T09:15:07.571794300Z"
    },
    "collapsed": false
   },
   "outputs": [
    {
     "name": "stdout",
     "output_type": "stream",
     "text": [
      "                 datetime   energy    p54.162.13  p55.162.13    cape.13  \\\n",
      "0     2005-01-02 18:00:00   402.71  2.510824e+06    9.186295  13.527577   \n",
      "1     2005-01-03 00:00:00   696.80  2.513173e+06    8.849569   6.896412   \n",
      "2     2005-01-03 06:00:00  1591.15  2.509627e+06    7.924080   4.774439   \n",
      "3     2005-01-03 12:00:00  1338.62  2.510571e+06    6.922709   0.000000   \n",
      "4     2005-01-03 18:00:00   562.50  2.505664e+06    6.646282   0.000000   \n",
      "...                   ...      ...           ...         ...        ...   \n",
      "4743  2009-12-30 06:00:00  1280.13  2.385772e+06   14.413342  24.971074   \n",
      "4744  2009-12-30 12:00:00   855.00  2.385708e+06   12.802883  60.248874   \n",
      "4745  2009-12-30 18:00:00   117.06  2.379049e+06   10.915997   3.145067   \n",
      "4746  2009-12-31 12:00:00   516.96  2.371697e+06   13.048144  12.580268   \n",
      "4747  2009-12-31 18:00:00   867.07  2.369547e+06    9.172745   8.487892   \n",
      "\n",
      "        p59.162.13  lai_lv.13  lai_hv.13   u10n.13   v10n.13  ...      t2m.13  \\\n",
      "0     1.386937e+06   2.344111   2.432983 -0.757587 -1.922799  ...  280.473098   \n",
      "1     1.153526e+06   2.343719   2.432838 -1.412620 -1.403011  ...  278.286616   \n",
      "2     1.098754e+06   2.343300   2.432704 -2.290185 -0.754580  ...  277.206490   \n",
      "3     1.076021e+06   2.342830   2.432514 -3.497855  1.271028  ...  280.926600   \n",
      "4     1.070830e+06   2.342437   2.432369 -0.971249  0.553060  ...  277.363875   \n",
      "...            ...        ...        ...       ...       ...  ...         ...   \n",
      "4743  3.905586e+06   2.349839   2.434994  4.595786  5.563189  ...  280.731326   \n",
      "4744  2.745694e+06   2.349446   2.434849  4.894838  5.577096  ...  283.310687   \n",
      "4745  2.254171e+06   2.349054   2.434715  0.958361  0.948029  ...  281.060085   \n",
      "4746  1.376913e+06   2.347799   2.434291  5.278912  0.771754  ...  279.662858   \n",
      "4747  1.356687e+06   2.347406   2.434145  4.578042  1.295018  ...  277.552154   \n",
      "\n",
      "         stl2.13     stl3.13   iews.13   inss.13     stl4.13    fsr.13  \\\n",
      "0     281.042026  281.462478 -0.057958 -0.138650  284.684755  0.404731   \n",
      "1     280.747406  281.486541 -0.103576 -0.083050  284.667948  0.404920   \n",
      "2     280.114863  281.487095 -0.165721 -0.036241  284.651914  0.405704   \n",
      "3     279.991138  281.472435 -0.275550  0.098192  284.636266  0.403967   \n",
      "4     280.576898  281.473265 -0.056553  0.041844  284.620232  0.403808   \n",
      "...          ...         ...       ...       ...         ...       ...   \n",
      "4743  282.643490  281.676560  0.628948  0.879581  286.013271  0.424510   \n",
      "4744  282.370909  281.761750  0.740926  0.699769  285.988737  0.424762   \n",
      "4745  282.425812  281.841961  0.109802  0.125174  285.968452  0.415132   \n",
      "4746  281.153379  281.976385  0.705886  0.192834  285.904895  0.426707   \n",
      "4747  281.046666  281.997129  0.460114  0.160810  285.884804  0.426651   \n",
      "\n",
      "       flsr.13   u100.13   v100.13  \n",
      "0    -5.927092 -1.780562 -4.443617  \n",
      "1    -5.913881 -3.743344 -3.129469  \n",
      "2    -5.908272 -5.097203 -1.157748  \n",
      "3    -5.961995 -4.500835  1.502478  \n",
      "4    -5.987860 -3.392324  2.131114  \n",
      "...        ...       ...       ...  \n",
      "4743 -5.715421  6.922743  9.179816  \n",
      "4744 -5.732455  7.434887  7.537381  \n",
      "4745 -5.866856  3.033799  3.568993  \n",
      "4746 -5.693542  8.374951  2.219422  \n",
      "4747 -5.699429  7.103223  1.883651  \n",
      "\n",
      "[4748 rows x 24 columns]\n"
     ]
    }
   ],
   "source": [
    "import pandas as pd\n",
    "\n",
    "# Load the data\n",
    "data = pd.read_csv('wind_ava.csv.gz', compression='gzip')\n",
    "# FIlter the data to only include the columns that end in 13\n",
    "\n",
    "data = data.filter(regex='13$|energy|datetime')\n",
    "\n",
    "\n",
    "print(data)\n"
   ]
  }
 ],
 "metadata": {
  "kernelspec": {
   "display_name": "Python 3",
   "language": "python",
   "name": "python3"
  },
  "language_info": {
   "codemirror_mode": {
    "name": "ipython",
    "version": 2
   },
   "file_extension": ".py",
   "mimetype": "text/x-python",
   "name": "python",
   "nbconvert_exporter": "python",
   "pygments_lexer": "ipython2",
   "version": "2.7.6"
  }
 },
 "nbformat": 4,
 "nbformat_minor": 5
}
