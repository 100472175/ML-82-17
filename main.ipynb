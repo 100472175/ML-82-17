{
 "cells": [
  {
   "cell_type": "markdown",
   "metadata": {},
   "source": [
    "# BEGIN: Introduction\n",
    "\"\"\"\n",
    "Project Introduction:\n",
    "This project was done by Sergio and I. We collaborated to develop a software solution for predicting the energy created using wind turbines.\n",
    "\"\"\"\n",
    "# END: Introduction\n"
   ]
  },
  {
   "cell_type": "code",
   "execution_count": 5,
   "metadata": {},
   "outputs": [
    {
     "name": "stdout",
     "output_type": "stream",
     "text": [
      "       datetime   energy   p54.162.13  p55.162.13    cape.13   p59.162.13  \\\n",
      "0  2/1/05 18:00   402.71  2510823.980    9.186295  13.527577  1386936.819   \n",
      "1  3/1/05 00:00   696.80  2513173.482    8.849569   6.896412  1153526.360   \n",
      "2  3/1/05 06:00  1591.15  2509626.637    7.924080   4.774439  1098753.660   \n",
      "3  3/1/05 12:00  1338.62  2510570.956    6.922709   0.000000  1076021.199   \n",
      "4  3/1/05 18:00   562.50  2505664.112    6.646282   0.000000  1070830.323   \n",
      "\n",
      "   lai_lv.13  lai_hv.13   u10n.13   v10n.13  ...      t2m.13     stl2.13  \\\n",
      "0   2.344111   2.432983 -0.757587 -1.922799  ...  280.473098  281.042026   \n",
      "1   2.343719   2.432838 -1.412620 -1.403011  ...  278.286616  280.747407   \n",
      "2   2.343300   2.432704 -2.290185 -0.754580  ...  277.206490  280.114863   \n",
      "3   2.342830   2.432514 -3.497855  1.271028  ...  280.926600  279.991138   \n",
      "4   2.342437   2.432369 -0.971249  0.553060  ...  277.363875  280.576898   \n",
      "\n",
      "      stl3.13   iews.13   inss.13     stl4.13    fsr.13   flsr.13   u100.13  \\\n",
      "0  281.462478 -0.057958 -0.138650  284.684755  0.404731 -5.927092 -1.780562   \n",
      "1  281.486541 -0.103576 -0.083050  284.667948  0.404920 -5.913881 -3.743344   \n",
      "2  281.487095 -0.165721 -0.036241  284.651914  0.405704 -5.908272 -5.097203   \n",
      "3  281.472435 -0.275550  0.098192  284.636266  0.403967 -5.961995 -4.500835   \n",
      "4  281.473265 -0.056553  0.041844  284.620232  0.403808 -5.987860 -3.392324   \n",
      "\n",
      "    v100.13  \n",
      "0 -4.443617  \n",
      "1 -3.129469  \n",
      "2 -1.157748  \n",
      "3  1.502478  \n",
      "4  2.131114  \n",
      "\n",
      "[5 rows x 24 columns]\n"
     ]
    }
   ],
   "source": [
    "import pandas as pd\n",
    "import numpy as np\n",
    "\n",
    "# Load the data\n",
    "data = pd.read_csv('wind_ava.csv')\n",
    "print(data.head())"
   ]
  }
 ],
 "metadata": {
  "kernelspec": {
   "display_name": ".venv",
   "language": "python",
   "name": "python3"
  },
  "language_info": {
   "codemirror_mode": {
    "name": "ipython",
    "version": 3
   },
   "file_extension": ".py",
   "mimetype": "text/x-python",
   "name": "python",
   "nbconvert_exporter": "python",
   "pygments_lexer": "ipython3",
   "version": "3.12.2"
  }
 },
 "nbformat": 4,
 "nbformat_minor": 2
}
